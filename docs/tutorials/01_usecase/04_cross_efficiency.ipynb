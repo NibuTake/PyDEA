{
 "cells": [
  {
   "cell_type": "markdown",
   "metadata": {},
   "source": [
    "\n",
    "# Cross efficiency\n",
    "\n",
    "Preparing...\n"
   ]
  },
  {
   "cell_type": "markdown",
   "metadata": {},
   "source": [
    "## Import modules and prepare data.\n",
    "\n",
    "\n"
   ]
  },
  {
   "cell_type": "code",
   "execution_count": null,
   "metadata": {
    "collapsed": false
   },
   "outputs": [],
   "source": [
    "import matplotlib.pyplot as plt\n",
    "import pandas as pd\n",
    "\n",
    "from Pyfrontier.frontier_model import MultipleDEA\n",
    "\n",
    "df = pd.DataFrame(\n",
    "    {\"price\": [3, 2, 4, 6, 4], \"rent\": [5, 2, 2, 1, 6], \"output\": [2, 1.5, 3, 2, 2]}\n",
    ")"
   ]
  },
  {
   "cell_type": "code",
   "execution_count": null,
   "metadata": {
    "collapsed": false
   },
   "outputs": [],
   "source": [
    "dea = MultipleDEA(\"CRS\", \"in\")\n",
    "dea.fit(df[[\"price\", \"rent\"]].to_numpy(), df[[\"output\"]].to_numpy())"
   ]
  },
  {
   "cell_type": "code",
   "execution_count": null,
   "metadata": {
    "collapsed": false
   },
   "outputs": [],
   "source": [
    "dea.result[0]"
   ]
  },
  {
   "cell_type": "code",
   "execution_count": null,
   "metadata": {
    "collapsed": false
   },
   "outputs": [],
   "source": [
    "[r.score for r in dea.result]"
   ]
  },
  {
   "cell_type": "code",
   "execution_count": null,
   "metadata": {
    "collapsed": false
   },
   "outputs": [],
   "source": [
    "dea.cross_efficiency"
   ]
  },
  {
   "cell_type": "code",
   "execution_count": null,
   "metadata": {
    "collapsed": false
   },
   "outputs": [],
   "source": [
    "efficiency_matrix = dea._cross_efficiency_matrix()\n",
    "\n",
    "plt.figure()\n",
    "plt.imshow(efficiency_matrix, interpolation=\"nearest\", vmin=0, vmax=1, cmap=\"Blues\")\n",
    "plt.colorbar()\n",
    "plt.show()"
   ]
  },
  {
   "cell_type": "markdown",
   "metadata": {},
   "source": [
    "## References\n",
    ".. seealso::\n",
    "\n",
    "   Author\n",
    "      John Doyle and Rodney Green. \n",
    "   Title\n",
    "      *Efficiency and Cross-efficiency in DEA: Derivations, Meanings and Uses*, \n",
    "    Journal of the Operational Research Society, \n",
    "    1994. \n",
    "    :numref:`10.1057/jors.1994.84`. \n",
    "\n"
   ]
  },
  {
   "cell_type": "markdown",
   "metadata": {},
   "source": [
    ".. seealso::\n",
    "\n",
    "   Author\n",
    "      Sexton, Thomas R. and Silkman, Richard H. and Hogan, Andrew J.. \n",
    "   Title\n",
    "      *Data envelopment analysis: Critique and extensions*, \n",
    "    New Directions for Program Evaluation, \n",
    "    1986. \n",
    "    :numref:`https://doi.org/10.1002/ev.1441`. \n",
    "\n"
   ]
  }
 ],
 "metadata": {
  "kernelspec": {
   "display_name": "Python 3",
   "language": "python",
   "name": "python3"
  },
  "language_info": {
   "codemirror_mode": {
    "name": "ipython",
    "version": 3
   },
   "file_extension": ".py",
   "mimetype": "text/x-python",
   "name": "python",
   "nbconvert_exporter": "python",
   "pygments_lexer": "ipython3",
   "version": "3.10.9"
  }
 },
 "nbformat": 4,
 "nbformat_minor": 0
}
