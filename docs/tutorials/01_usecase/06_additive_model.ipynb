{
 "cells": [
  {
   "cell_type": "markdown",
   "metadata": {},
   "source": [
    "\n",
    "# Additive model\n",
    "\n",
    "Preparing...\n"
   ]
  },
  {
   "cell_type": "markdown",
   "metadata": {},
   "source": [
    "## Import modules and prepare data.\n",
    "Average of rental properties in a given district.\n",
    "\n"
   ]
  },
  {
   "cell_type": "code",
   "execution_count": null,
   "metadata": {
    "collapsed": false
   },
   "outputs": [],
   "source": [
    "import matplotlib.pyplot as plt\n",
    "import numpy as np\n",
    "import pandas as pd\n",
    "\n",
    "from Pyfrontier.frontier_model import AdditiveDEA\n",
    "\n",
    "df = pd.DataFrame(\n",
    "    {\"input_1\": [1, 1.5, 3, 3], \"input_2\": [3, 1.5, 1, 3], \"output\": [16, 16, 16, 16]}\n",
    ")\n",
    "df"
   ]
  },
  {
   "cell_type": "markdown",
   "metadata": {},
   "source": [
    "## No weight.\n",
    "\n",
    "The necessity inputs are inputs and outputs. The result has below belongings.\n",
    "\n"
   ]
  },
  {
   "cell_type": "code",
   "execution_count": null,
   "metadata": {
    "collapsed": false
   },
   "outputs": [],
   "source": [
    "dea = AdditiveDEA(\"CRS\")\n",
    "dea.fit(\n",
    "    df[[\"input_1\", \"input_2\"]].to_numpy(),\n",
    "    df[[\"output\"]].to_numpy(),\n",
    ")\n",
    "\n",
    "dea.result[0]"
   ]
  },
  {
   "cell_type": "markdown",
   "metadata": {},
   "source": [
    "In the built documentation.\n",
    "\n"
   ]
  },
  {
   "cell_type": "code",
   "execution_count": null,
   "metadata": {
    "collapsed": false
   },
   "outputs": [],
   "source": [
    "eff_dmu = [r.dmu for r in dea.result if r.is_efficient]\n",
    "ineff_dmu = [r.dmu for r in dea.result if r.is_efficient != 1]\n",
    "\n",
    "plt.figure()\n",
    "plt.plot(\n",
    "    [d.input[0] for d in eff_dmu],\n",
    "    [d.input[1] for d in eff_dmu],\n",
    "    \"-o\",\n",
    "    label=\"efficient dmu\",\n",
    ")\n",
    "plt.plot(\n",
    "    [d.input[0] for d in ineff_dmu],\n",
    "    [d.input[1] for d in ineff_dmu],\n",
    "    \"o\",\n",
    "    label=\"not-efficient dmu\",\n",
    ")\n",
    "plt.annotate(\n",
    "    \"\", xy=[1.5, 1.5], xytext=[3, 3], arrowprops=dict(arrowstyle=\"-|>\", color=\"red\")\n",
    ")\n",
    "plt.xlabel(\"input_1\")\n",
    "plt.ylabel(\"input_2\")"
   ]
  },
  {
   "cell_type": "markdown",
   "metadata": {},
   "source": [
    "## With weight.\n",
    "\n",
    "The necessity inputs are inputs and outputs. The result has below belongings.\n",
    "\n"
   ]
  },
  {
   "cell_type": "code",
   "execution_count": null,
   "metadata": {
    "collapsed": false
   },
   "outputs": [],
   "source": [
    "dea_with_weight = AdditiveDEA(\"CRS\")\n",
    "dea_with_weight.fit(\n",
    "    df[[\"input_1\", \"input_2\"]].to_numpy(),\n",
    "    df[[\"output\"]].to_numpy(),\n",
    "    x_weight=np.array([0.8, 0.2]),\n",
    "    y_weight=np.array([0]),\n",
    ")\n",
    "\n",
    "dea_with_weight.result[-1]"
   ]
  },
  {
   "cell_type": "code",
   "execution_count": null,
   "metadata": {
    "collapsed": false
   },
   "outputs": [],
   "source": [
    "plt.figure()\n",
    "plt.plot(\n",
    "    [d.input[0] for d in eff_dmu],\n",
    "    [d.input[1] for d in eff_dmu],\n",
    "    \"-o\",\n",
    "    label=\"efficient dmu\",\n",
    ")\n",
    "plt.plot(\n",
    "    [d.input[0] for d in ineff_dmu],\n",
    "    [d.input[1] for d in ineff_dmu],\n",
    "    \"o\",\n",
    "    label=\"not-efficient dmu\",\n",
    ")\n",
    "plt.annotate(\n",
    "    \"\", xy=[1, 3], xytext=[3, 3], arrowprops=dict(arrowstyle=\"-|>\", color=\"red\")\n",
    ")\n",
    "plt.xlabel(\"input_1\")\n",
    "plt.ylabel(\"input_2\")"
   ]
  },
  {
   "cell_type": "markdown",
   "metadata": {},
   "source": [
    "## References\n",
    ".. seealso::\n",
    "\n",
    "   Author\n",
    "      A. Charnes and W.W. Cooper and L. Seiford and J. Stutz. \n",
    "   Title\n",
    "      *A multiplicative model for efficiency analysis*, \n",
    "    Socio-Economic Planning Sciences, \n",
    "    1982. \n",
    "    :numref:`https://doi.org/10.1016/0038-0121(82)90029-5`. \n",
    "\n"
   ]
  }
 ],
 "metadata": {
  "kernelspec": {
   "display_name": "Python 3",
   "language": "python",
   "name": "python3"
  },
  "language_info": {
   "codemirror_mode": {
    "name": "ipython",
    "version": 3
   },
   "file_extension": ".py",
   "mimetype": "text/x-python",
   "name": "python",
   "nbconvert_exporter": "python",
   "pygments_lexer": "ipython3",
   "version": "3.10.9"
  }
 },
 "nbformat": 4,
 "nbformat_minor": 0
}
