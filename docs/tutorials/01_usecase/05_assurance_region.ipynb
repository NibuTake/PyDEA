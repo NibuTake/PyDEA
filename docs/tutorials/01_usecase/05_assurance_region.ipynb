{
 "cells": [
  {
   "cell_type": "markdown",
   "metadata": {},
   "source": [
    "\n",
    "# Assurance region\n",
    "\n",
    "Preparing...\n"
   ]
  },
  {
   "cell_type": "markdown",
   "metadata": {},
   "source": [
    "\\begin{align}\\alpha_i \\leq \\frac{\\nu_i}{\\nu_{i_o}} \\beta_i, i= 1, \\dots, m\\end{align}\n",
    "\n"
   ]
  },
  {
   "cell_type": "markdown",
   "metadata": {},
   "source": [
    "## Import modules and prepare data.\n",
    "\n",
    "\n"
   ]
  },
  {
   "cell_type": "code",
   "execution_count": null,
   "metadata": {
    "collapsed": false
   },
   "outputs": [],
   "source": [
    "import matplotlib.pyplot as plt\n",
    "import numpy as np\n",
    "import pandas as pd\n",
    "\n",
    "from Pyfrontier.frontier_model import MultipleDEA\n",
    "\n",
    "df = pd.DataFrame({\"price\": [1, 2, 4, 6], \"rent\": [5, 2, 1, 1], \"output\": [3, 3, 3, 3]})\n",
    "\n",
    "df"
   ]
  },
  {
   "cell_type": "markdown",
   "metadata": {},
   "source": [
    "これによって乗数同士の重要性などを加味することができる。\n",
    "\n",
    "\\begin{align}1 \\leq \\frac{x_{price}}{x_{rent}} \\leq 2\\end{align}\n",
    "\n"
   ]
  },
  {
   "cell_type": "code",
   "execution_count": null,
   "metadata": {
    "collapsed": false
   },
   "outputs": [],
   "source": [
    "dea = MultipleDEA(\"CRS\", \"in\")\n",
    "dea.fit(df[[\"price\", \"rent\"]].to_numpy(), df[[\"output\"]].to_numpy())\n",
    "\n",
    "print(\"ordinary dea: \", [r.score for r in dea.result])"
   ]
  },
  {
   "cell_type": "code",
   "execution_count": null,
   "metadata": {
    "collapsed": false
   },
   "outputs": [],
   "source": [
    "dea_ar = MultipleDEA(\"CRS\", \"in\")\n",
    "dea_ar.add_assurance_region(\"in\", index_a=0, index_b=1, coefficient=2, operator=\"<=\")\n",
    "dea_ar.add_assurance_region(\"in\", index_a=0, index_b=1, coefficient=1, operator=\">=\")\n",
    "dea_ar.fit(df[[\"price\", \"rent\"]].to_numpy(), df[[\"output\"]].to_numpy())\n",
    "\n",
    "print(\"assurance region: \", [r.score for r in dea_ar.result])"
   ]
  },
  {
   "cell_type": "code",
   "execution_count": null,
   "metadata": {
    "collapsed": false
   },
   "outputs": [],
   "source": [
    "def restrict_f_1(x: np.ndarray):\n",
    "    return -x + 4\n",
    "\n",
    "\n",
    "def restrict_f_2(x: np.ndarray):\n",
    "    return -2 * x + 6\n",
    "\n",
    "\n",
    "x = np.array([0, 6])\n",
    "x1 = np.array([2, 6])\n",
    "x2 = np.array([0, 2])\n",
    "\n",
    "plt.figure()\n",
    "plt.plot(\n",
    "    [r.dmu.input[0] for r in dea.result], [r.dmu.input[1] for r in dea.result], \"o-\"\n",
    ")\n",
    "plt.plot(x, restrict_f_1(x), linestyle=\"--\", label=\"rent = price\")\n",
    "plt.plot(x, restrict_f_2(x), linestyle=\"--\", label=\"price = 2*rent\")\n",
    "plt.fill_between(x1, restrict_f_1(x1), [6, 6], alpha=0.2, color=\"C0\")\n",
    "plt.fill_between(x2, restrict_f_2(x2), [6, 6], alpha=0.2, color=\"C0\")\n",
    "plt.plot(x1, restrict_f_1(x1), color=\"red\")\n",
    "plt.plot(x2, restrict_f_2(x2), color=\"red\", label=\"frontier\")\n",
    "plt.xlabel(\"price\")\n",
    "plt.ylabel(\"rent\")\n",
    "plt.ylim(0, 6)\n",
    "plt.legend()\n",
    "plt.show()"
   ]
  },
  {
   "cell_type": "markdown",
   "metadata": {},
   "source": [
    "通常のDEAで効率的だったDMUは、フロンティアの傾きに制約が課されることで一つのみとなった。\n",
    "\n"
   ]
  },
  {
   "cell_type": "markdown",
   "metadata": {},
   "source": [
    "## References\n",
    ".. seealso::\n",
    "\n",
    "   Author\n",
    "      Russell G. Thompson and Larry N. Langemeier and Chih-Tah Lee and Euntaik Lee and Robert M. Thrall. \n",
    "   Title\n",
    "      *The role of multiplier bounds in efficiency analysis with application to Kansas farming*, \n",
    "    Journal of Econometrics, \n",
    "    1990. \n",
    "    :numref:`https://doi.org/10.1016/0304-4076(90)90049-Y`. \n",
    "\n"
   ]
  }
 ],
 "metadata": {
  "kernelspec": {
   "display_name": "Python 3",
   "language": "python",
   "name": "python3"
  },
  "language_info": {
   "codemirror_mode": {
    "name": "ipython",
    "version": 3
   },
   "file_extension": ".py",
   "mimetype": "text/x-python",
   "name": "python",
   "nbconvert_exporter": "python",
   "pygments_lexer": "ipython3",
   "version": "3.10.9"
  }
 },
 "nbformat": 4,
 "nbformat_minor": 0
}
