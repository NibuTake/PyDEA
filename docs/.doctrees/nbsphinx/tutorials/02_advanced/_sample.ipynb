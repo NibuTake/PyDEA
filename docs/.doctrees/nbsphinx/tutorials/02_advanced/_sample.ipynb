{
 "cells": [
  {
   "cell_type": "markdown",
   "metadata": {},
   "source": [
    "\n",
    "# Ex. sample\n",
    "\n",
    "This example doesn't do much, it just makes a simple plot\n"
   ]
  },
  {
   "cell_type": "markdown",
   "metadata": {},
   "source": [
    "## Import libraries.\n",
    "Sample supply chain data is generated.\n",
    "\n"
   ]
  },
  {
   "cell_type": "code",
   "execution_count": null,
   "metadata": {
    "collapsed": false
   },
   "outputs": [],
   "source": [
    "import matplotlib.pyplot as plt\n",
    "import pandas as pd\n",
    "\n",
    "from Pyfrontier.frontier_model import EnvelopDEA\n",
    "\n",
    "supply_chain_df = pd.DataFrame(\n",
    "    {\"day\": [1, 2, 4, 6, 4], \"cost\": [5, 2, 1, 1, 4], \"profit\": [15, 15, 15, 15, 15]}\n",
    ")\n",
    "supply_chain_df"
   ]
  },
  {
   "cell_type": "markdown",
   "metadata": {},
   "source": [
    "## Fit dea model.\n",
    "\n",
    "The necessity inputs are inputs and outputs. The result has below belongings.\n",
    "\n"
   ]
  },
  {
   "cell_type": "code",
   "execution_count": null,
   "metadata": {
    "collapsed": false
   },
   "outputs": [],
   "source": [
    "dea = EnvelopDEA(\"CRS\", \"in\")\n",
    "dea.fit(\n",
    "    supply_chain_df[[\"day\", \"cost\"]].to_numpy(),\n",
    "    supply_chain_df[[\"profit\"]].to_numpy(),\n",
    ")\n",
    "\n",
    "dea.result[0]"
   ]
  },
  {
   "cell_type": "markdown",
   "metadata": {},
   "source": [
    "## Visualize the result.\n",
    "\n",
    "In the built documentation.\n",
    "\n"
   ]
  },
  {
   "cell_type": "code",
   "execution_count": null,
   "metadata": {
    "collapsed": false
   },
   "outputs": [],
   "source": [
    "plt"
   ]
  }
 ],
 "metadata": {
  "kernelspec": {
   "display_name": "Python 3",
   "language": "python",
   "name": "python3"
  },
  "language_info": {
   "codemirror_mode": {
    "name": "ipython",
    "version": 3
   },
   "file_extension": ".py",
   "mimetype": "text/x-python",
   "name": "python",
   "nbconvert_exporter": "python",
   "pygments_lexer": "ipython3",
   "version": "3.10.9"
  }
 },
 "nbformat": 4,
 "nbformat_minor": 0
}
