{
 "cells": [
  {
   "cell_type": "markdown",
   "metadata": {},
   "source": [
    "\n",
    "# Uncontrollable factor\n",
    "\n",
    "Preparing...\n"
   ]
  },
  {
   "cell_type": "markdown",
   "metadata": {},
   "source": [
    "## Import modules and prepare data.\n",
    "Preparing...\n",
    "\n"
   ]
  },
  {
   "cell_type": "code",
   "execution_count": null,
   "metadata": {
    "collapsed": false
   },
   "outputs": [],
   "source": [
    "import matplotlib.pyplot as plt\n",
    "import pandas as pd\n",
    "\n",
    "from Pyfrontier.frontier_model import EnvelopDEA\n",
    "\n",
    "supply_chain_df = pd.DataFrame(\n",
    "    {\"cost\": [1, 2, 4, 6, 4], \"day\": [4, 2, 1, 1, 4], \"profit\": [2, 2, 2, 2, 2]}\n",
    ")\n",
    "supply_chain_df\n",
    "\n",
    "EnvelopDEA\n",
    "plt"
   ]
  }
 ],
 "metadata": {
  "kernelspec": {
   "display_name": "Python 3",
   "language": "python",
   "name": "python3"
  },
  "language_info": {
   "codemirror_mode": {
    "name": "ipython",
    "version": 3
   },
   "file_extension": ".py",
   "mimetype": "text/x-python",
   "name": "python",
   "nbconvert_exporter": "python",
   "pygments_lexer": "ipython3",
   "version": "3.10.9"
  }
 },
 "nbformat": 4,
 "nbformat_minor": 0
}
