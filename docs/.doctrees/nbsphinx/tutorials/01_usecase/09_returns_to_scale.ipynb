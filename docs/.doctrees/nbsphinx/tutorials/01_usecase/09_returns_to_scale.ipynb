{
 "cells": [
  {
   "cell_type": "markdown",
   "metadata": {},
   "source": [
    "\n",
    "# Returns to scale\n",
    "\n",
    "Preparing...\n"
   ]
  },
  {
   "cell_type": "markdown",
   "metadata": {},
   "source": [
    "## Import modules and prepare data.\n",
    "Average of rental properties in a given district.\n",
    "\n"
   ]
  },
  {
   "cell_type": "code",
   "execution_count": null,
   "metadata": {
    "collapsed": false
   },
   "outputs": [],
   "source": [
    "import matplotlib.pyplot as plt\n",
    "import pandas as pd\n",
    "\n",
    "from Pyfrontier.frontier_model import MultipleDEA\n",
    "\n",
    "sample_df = pd.DataFrame(\n",
    "    {\n",
    "        \"input\": [\n",
    "            1,\n",
    "            2,\n",
    "            4,\n",
    "            6,\n",
    "        ],\n",
    "        \"output\": [\n",
    "            0.5,\n",
    "            2,\n",
    "            4,\n",
    "            5,\n",
    "        ],\n",
    "    }\n",
    ")\n",
    "sample_df"
   ]
  },
  {
   "cell_type": "markdown",
   "metadata": {},
   "source": [
    "## Fit dea model.\n",
    "\n",
    "The necessity inputs are inputs and outputs. The result has below belongings.\n",
    "\n"
   ]
  },
  {
   "cell_type": "code",
   "execution_count": null,
   "metadata": {
    "collapsed": false
   },
   "outputs": [],
   "source": [
    "dea = MultipleDEA(\"VRS\", \"in\")\n",
    "dea.fit(\n",
    "    sample_df[[\"input\"]].to_numpy(),\n",
    "    sample_df[[\"output\"]].to_numpy(),\n",
    ")\n",
    "\n",
    "dea.result"
   ]
  },
  {
   "cell_type": "code",
   "execution_count": null,
   "metadata": {
    "collapsed": false
   },
   "outputs": [],
   "source": [
    "plt.figure()\n",
    "plt.plot(sample_df[\"input\"], sample_df[\"output\"])"
   ]
  },
  {
   "cell_type": "markdown",
   "metadata": {},
   "source": [
    "%%\n",
    "\n"
   ]
  }
 ],
 "metadata": {
  "kernelspec": {
   "display_name": "Python 3",
   "language": "python",
   "name": "python3"
  },
  "language_info": {
   "codemirror_mode": {
    "name": "ipython",
    "version": 3
   },
   "file_extension": ".py",
   "mimetype": "text/x-python",
   "name": "python",
   "nbconvert_exporter": "python",
   "pygments_lexer": "ipython3",
   "version": "3.10.9"
  }
 },
 "nbformat": 4,
 "nbformat_minor": 0
}
