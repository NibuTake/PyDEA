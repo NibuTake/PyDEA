{
 "cells": [
  {
   "cell_type": "markdown",
   "metadata": {},
   "source": [
    "\n",
    "# Context-dependent DEA\n",
    "\n",
    "Preparing...\n"
   ]
  },
  {
   "cell_type": "markdown",
   "metadata": {},
   "source": [
    "## Import modules and prepare data.\n",
    "\n",
    "\n"
   ]
  },
  {
   "cell_type": "code",
   "execution_count": null,
   "metadata": {
    "collapsed": false
   },
   "outputs": [],
   "source": [
    "import matplotlib.pyplot as plt\n",
    "import pandas as pd\n",
    "\n",
    "from Pyfrontier.frontier_model import EnvelopDEA, HierarchalDEA"
   ]
  },
  {
   "cell_type": "code",
   "execution_count": null,
   "metadata": {
    "collapsed": false
   },
   "outputs": [],
   "source": [
    "df = pd.DataFrame(\n",
    "    {\n",
    "        \"input_1\": [4, 2, 1, 1, 5, 2.5, 1.5, 5, 4, 2.5],\n",
    "        \"input_2\": [1, 1.5, 3, 4, 2, 2.5, 5, 3, 3, 4.5],\n",
    "        \"output\": [3, 3, 3, 3, 3, 3, 3, 3, 3, 3],\n",
    "    }\n",
    ")\n",
    "\n",
    "h_dea = HierarchalDEA(EnvelopDEA(\"CRS\", \"in\"))\n",
    "\n",
    "h_dea.fit(df[[\"input_1\", \"input_2\"]].to_numpy(), df[[\"output\"]].to_numpy())\n",
    "\n",
    "h_dea.result[0]"
   ]
  },
  {
   "cell_type": "code",
   "execution_count": null,
   "metadata": {
    "collapsed": false
   },
   "outputs": [],
   "source": [
    "plt.figure()\n",
    "for res in h_dea.result:\n",
    "    plt.plot(\n",
    "        [r.dmu.input[0] for r in res],\n",
    "        [r.dmu.input[1] for r in res],\n",
    "        \"o-\",\n",
    "        color=\"C0\",\n",
    "    )"
   ]
  },
  {
   "cell_type": "markdown",
   "metadata": {},
   "source": [
    "## References\n",
    ".. seealso::\n",
    "\n",
    "   Author\n",
    "      Lawrence M. Seiford and Joe Zhu. \n",
    "   Title\n",
    "      *Context-dependent data envelopment analysis—Measuring attractiveness and progress*, \n",
    "    Omega-international Journal of Management Science, \n",
    "    2003. \n",
    "    :numref:`https://EconPapers.repec.org/RePEc:eee:jomega:v:31:y:2003:i:5:p:397-408`. \n",
    "\n"
   ]
  }
 ],
 "metadata": {
  "kernelspec": {
   "display_name": "Python 3",
   "language": "python",
   "name": "python3"
  },
  "language_info": {
   "codemirror_mode": {
    "name": "ipython",
    "version": 3
   },
   "file_extension": ".py",
   "mimetype": "text/x-python",
   "name": "python",
   "nbconvert_exporter": "python",
   "pygments_lexer": "ipython3",
   "version": "3.10.9"
  }
 },
 "nbformat": 4,
 "nbformat_minor": 0
}
