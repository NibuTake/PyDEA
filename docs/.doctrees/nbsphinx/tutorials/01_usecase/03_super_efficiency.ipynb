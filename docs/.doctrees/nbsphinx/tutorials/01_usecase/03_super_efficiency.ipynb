{
 "cells": [
  {
   "cell_type": "markdown",
   "metadata": {},
   "source": [
    "\n",
    "# Super efficiency\n",
    "\n",
    "Preparing...\n"
   ]
  },
  {
   "cell_type": "markdown",
   "metadata": {},
   "source": [
    "## Import modules and prepare data.\n",
    "\n",
    "\n"
   ]
  },
  {
   "cell_type": "code",
   "execution_count": null,
   "metadata": {
    "collapsed": false
   },
   "outputs": [],
   "source": [
    "import matplotlib.pyplot as plt\n",
    "import pandas as pd\n",
    "\n",
    "from Pyfrontier.frontier_model import EnvelopDEA\n",
    "\n",
    "supply_chain_df = pd.DataFrame(\n",
    "    {\"cost\": [1, 2, 4, 6, 4], \"day\": [4, 2, 1, 1, 4], \"profit\": [2, 2, 2, 2, 2]}\n",
    ")\n",
    "supply_chain_df"
   ]
  },
  {
   "cell_type": "markdown",
   "metadata": {},
   "source": [
    "## Fit dea model.\n",
    "\n",
    "The necessity inputs are inputs and outputs. The result has below belongings.\n",
    "\n"
   ]
  },
  {
   "cell_type": "code",
   "execution_count": null,
   "metadata": {
    "collapsed": false
   },
   "outputs": [],
   "source": [
    "dea = EnvelopDEA(\"CRS\", \"in\", super_efficiency=True)\n",
    "dea.fit(\n",
    "    supply_chain_df[[\"day\", \"cost\"]].to_numpy(),\n",
    "    supply_chain_df[[\"profit\"]].to_numpy(),\n",
    ")\n",
    "\n",
    "dea.result[1]"
   ]
  },
  {
   "cell_type": "code",
   "execution_count": null,
   "metadata": {
    "collapsed": false
   },
   "outputs": [],
   "source": [
    "plt.figure()\n",
    "plt.plot(\n",
    "    [r.dmu.input[0] for r in dea.result[:-1]],\n",
    "    [r.dmu.input[1] for r in dea.result[:-1]],\n",
    "    \"-o\",\n",
    ")\n",
    "plt.plot([4, 6], [1, 1], color=\"C0\")\n",
    "plt.plot([1, 4], [4, 1], color=\"black\", linestyle=\"--\")\n",
    "plt.legend()\n",
    "plt.show()"
   ]
  }
 ],
 "metadata": {
  "kernelspec": {
   "display_name": "Python 3",
   "language": "python",
   "name": "python3"
  },
  "language_info": {
   "codemirror_mode": {
    "name": "ipython",
    "version": 3
   },
   "file_extension": ".py",
   "mimetype": "text/x-python",
   "name": "python",
   "nbconvert_exporter": "python",
   "pygments_lexer": "ipython3",
   "version": "3.10.9"
  }
 },
 "nbformat": 4,
 "nbformat_minor": 0
}
